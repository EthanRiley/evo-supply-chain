{
 "cells": [
  {
   "cell_type": "code",
   "execution_count": 20,
   "id": "32a0bd9e",
   "metadata": {},
   "outputs": [],
   "source": [
    "import pandas as pd\n",
    "import json\n",
    "import random as rnd"
   ]
  },
  {
   "cell_type": "code",
   "execution_count": 2,
   "id": "1f54be8d",
   "metadata": {},
   "outputs": [],
   "source": [
    "data = pd.read_json('orders.json')"
   ]
  },
  {
   "cell_type": "code",
   "execution_count": 3,
   "id": "23294036",
   "metadata": {},
   "outputs": [
    {
     "data": {
      "text/html": [
       "<div>\n",
       "<style scoped>\n",
       "    .dataframe tbody tr th:only-of-type {\n",
       "        vertical-align: middle;\n",
       "    }\n",
       "\n",
       "    .dataframe tbody tr th {\n",
       "        vertical-align: top;\n",
       "    }\n",
       "\n",
       "    .dataframe thead th {\n",
       "        text-align: right;\n",
       "    }\n",
       "</style>\n",
       "<table border=\"1\" class=\"dataframe\">\n",
       "  <thead>\n",
       "    <tr style=\"text-align: right;\">\n",
       "      <th></th>\n",
       "      <th>1</th>\n",
       "      <th>2</th>\n",
       "      <th>3</th>\n",
       "      <th>4</th>\n",
       "      <th>5</th>\n",
       "      <th>6</th>\n",
       "      <th>7</th>\n",
       "      <th>8</th>\n",
       "      <th>9</th>\n",
       "      <th>10</th>\n",
       "      <th>...</th>\n",
       "      <th>91</th>\n",
       "      <th>92</th>\n",
       "      <th>93</th>\n",
       "      <th>94</th>\n",
       "      <th>95</th>\n",
       "      <th>96</th>\n",
       "      <th>97</th>\n",
       "      <th>98</th>\n",
       "      <th>99</th>\n",
       "      <th>100</th>\n",
       "    </tr>\n",
       "  </thead>\n",
       "  <tbody>\n",
       "    <tr>\n",
       "      <th>priority</th>\n",
       "      <td>HIGH</td>\n",
       "      <td>LOW</td>\n",
       "      <td>LOW</td>\n",
       "      <td>HIGH</td>\n",
       "      <td>HIGH</td>\n",
       "      <td>LOW</td>\n",
       "      <td>HIGH</td>\n",
       "      <td>LOW</td>\n",
       "      <td>HIGH</td>\n",
       "      <td>LOW</td>\n",
       "      <td>...</td>\n",
       "      <td>LOW</td>\n",
       "      <td>LOW</td>\n",
       "      <td>LOW</td>\n",
       "      <td>LOW</td>\n",
       "      <td>LOW</td>\n",
       "      <td>LOW</td>\n",
       "      <td>LOW</td>\n",
       "      <td>LOW</td>\n",
       "      <td>LOW</td>\n",
       "      <td>HIGH</td>\n",
       "    </tr>\n",
       "    <tr>\n",
       "      <th>product</th>\n",
       "      <td>Laptop</td>\n",
       "      <td>Laptop</td>\n",
       "      <td>Laptop</td>\n",
       "      <td>Chair</td>\n",
       "      <td>GPU</td>\n",
       "      <td>Laptop</td>\n",
       "      <td>Floppy</td>\n",
       "      <td>Chair</td>\n",
       "      <td>Chair</td>\n",
       "      <td>GPU</td>\n",
       "      <td>...</td>\n",
       "      <td>Chair</td>\n",
       "      <td>Chair</td>\n",
       "      <td>Laptop</td>\n",
       "      <td>Chair</td>\n",
       "      <td>GPU</td>\n",
       "      <td>Plant</td>\n",
       "      <td>Chair</td>\n",
       "      <td>GPU</td>\n",
       "      <td>Laptop</td>\n",
       "      <td>Plant</td>\n",
       "    </tr>\n",
       "    <tr>\n",
       "      <th>quantity</th>\n",
       "      <td>27</td>\n",
       "      <td>36</td>\n",
       "      <td>34</td>\n",
       "      <td>14</td>\n",
       "      <td>72</td>\n",
       "      <td>25</td>\n",
       "      <td>30</td>\n",
       "      <td>2</td>\n",
       "      <td>69</td>\n",
       "      <td>26</td>\n",
       "      <td>...</td>\n",
       "      <td>26</td>\n",
       "      <td>73</td>\n",
       "      <td>8</td>\n",
       "      <td>18</td>\n",
       "      <td>62</td>\n",
       "      <td>56</td>\n",
       "      <td>72</td>\n",
       "      <td>5</td>\n",
       "      <td>12</td>\n",
       "      <td>29</td>\n",
       "    </tr>\n",
       "  </tbody>\n",
       "</table>\n",
       "<p>3 rows × 100 columns</p>\n",
       "</div>"
      ],
      "text/plain": [
       "             1       2       3      4     5       6       7      8      9    \\\n",
       "priority    HIGH     LOW     LOW   HIGH  HIGH     LOW    HIGH    LOW   HIGH   \n",
       "product   Laptop  Laptop  Laptop  Chair   GPU  Laptop  Floppy  Chair  Chair   \n",
       "quantity      27      36      34     14    72      25      30      2     69   \n",
       "\n",
       "          10   ...    91     92      93     94   95     96     97   98   \\\n",
       "priority  LOW  ...    LOW    LOW     LOW    LOW  LOW    LOW    LOW  LOW   \n",
       "product   GPU  ...  Chair  Chair  Laptop  Chair  GPU  Plant  Chair  GPU   \n",
       "quantity   26  ...     26     73       8     18   62     56     72    5   \n",
       "\n",
       "             99     100  \n",
       "priority     LOW   HIGH  \n",
       "product   Laptop  Plant  \n",
       "quantity      12     29  \n",
       "\n",
       "[3 rows x 100 columns]"
      ]
     },
     "execution_count": 3,
     "metadata": {},
     "output_type": "execute_result"
    }
   ],
   "source": [
    "data"
   ]
  },
  {
   "cell_type": "code",
   "execution_count": 7,
   "id": "6ceb49f1",
   "metadata": {},
   "outputs": [],
   "source": [
    "f = open('orders.json')\n",
    "data_dict = json.load(f)\n",
    "data_dict\n",
    "f.close()"
   ]
  },
  {
   "cell_type": "code",
   "execution_count": 9,
   "id": "a178f4fa",
   "metadata": {},
   "outputs": [
    {
     "data": {
      "text/plain": [
       "{'priority': 'HIGH', 'product': 'Laptop', 'quantity': 27}"
      ]
     },
     "execution_count": 9,
     "metadata": {},
     "output_type": "execute_result"
    }
   ],
   "source": [
    "data_dict['1'][]"
   ]
  },
  {
   "cell_type": "code",
   "execution_count": 10,
   "id": "b8490bea",
   "metadata": {},
   "outputs": [
    {
     "data": {
      "text/plain": [
       "priority      HIGH\n",
       "product     Laptop\n",
       "quantity        27\n",
       "Name: 1, dtype: object"
      ]
     },
     "execution_count": 10,
     "metadata": {},
     "output_type": "execute_result"
    }
   ],
   "source": [
    "data[1]"
   ]
  },
  {
   "cell_type": "code",
   "execution_count": 11,
   "id": "dbe21d52",
   "metadata": {},
   "outputs": [
    {
     "data": {
      "text/plain": [
       "'HIGH'"
      ]
     },
     "execution_count": 11,
     "metadata": {},
     "output_type": "execute_result"
    }
   ],
   "source": [
    "data[1]['priority']"
   ]
  },
  {
   "cell_type": "code",
   "execution_count": 12,
   "id": "bc8c84da",
   "metadata": {},
   "outputs": [
    {
     "data": {
      "text/plain": [
       "3"
      ]
     },
     "execution_count": 12,
     "metadata": {},
     "output_type": "execute_result"
    }
   ],
   "source": [
    "len(data)"
   ]
  },
  {
   "cell_type": "code",
   "execution_count": 13,
   "id": "24c39c59",
   "metadata": {},
   "outputs": [
    {
     "data": {
      "text/plain": [
       "100"
      ]
     },
     "execution_count": 13,
     "metadata": {},
     "output_type": "execute_result"
    }
   ],
   "source": [
    "len(data_dict)"
   ]
  },
  {
   "cell_type": "code",
   "execution_count": 19,
   "id": "2bea4a0c",
   "metadata": {},
   "outputs": [
    {
     "data": {
      "text/plain": [
       "100"
      ]
     },
     "execution_count": 19,
     "metadata": {},
     "output_type": "execute_result"
    }
   ],
   "source": [
    "len(data.columns)"
   ]
  },
  {
   "cell_type": "code",
   "execution_count": 25,
   "id": "393a12ac",
   "metadata": {},
   "outputs": [
    {
     "name": "stdout",
     "output_type": "stream",
     "text": [
      "[51, 78, 79, 6, 35, 20, 23, 13, 64, 11, 37, 8, 44, 97, 14, 30, 58, 27, 3, 12, 9, 41, 34, 77, 10, 36, 5, 95, 9, 92, 17, 84, 86, 5, 17, 97, 70, 87, 10, 23, 69, 9, 21, 46, 66, 66, 39, 40, 27, 29, 30, 99, 83, 44, 35, 90, 1, 55, 66, 49, 6, 39, 89, 2, 16, 40, 84, 83, 7, 11, 85, 82, 31, 37, 20, 32, 27, 44, 76, 33, 74, 15, 15, 75, 22, 75, 18, 80, 64, 100, 48, 49, 94, 50, 36, 9, 43, 38, 10, 26]\n"
     ]
    }
   ],
   "source": [
    "print([rnd.randrange(1,101) for _ in range(100)])"
   ]
  },
  {
   "cell_type": "code",
   "execution_count": 26,
   "id": "a68e9582",
   "metadata": {},
   "outputs": [
    {
     "name": "stdout",
     "output_type": "stream",
     "text": [
      "[1, 2, 3, 4, 5, 6, 7, 8, 9, 10, 11, 12, 13, 14, 15, 16, 17, 18, 19, 20, 21, 22, 23, 24, 25, 26, 27, 28, 29, 30, 31, 32, 33, 34, 35, 36, 37, 38, 39, 40, 41, 42, 43, 44, 45, 46, 47, 48, 49, 50, 51, 52, 53, 54, 55, 56, 57, 58, 59, 60, 61, 62, 63, 64, 65, 66, 67, 68, 69, 70, 71, 72, 73, 74, 75, 76, 77, 78, 79, 80, 81, 82, 83, 84, 85, 86, 87, 88, 89, 90, 91, 92, 93, 94, 95, 96, 97, 98, 99, 100]\n"
     ]
    }
   ],
   "source": [
    "print([x+1 for x in range(100)])"
   ]
  },
  {
   "cell_type": "code",
   "execution_count": null,
   "id": "eedd9d45",
   "metadata": {},
   "outputs": [],
   "source": [
    "print([rnd.rand])"
   ]
  }
 ],
 "metadata": {
  "kernelspec": {
   "display_name": "Python 3 (ipykernel)",
   "language": "python",
   "name": "python3"
  },
  "language_info": {
   "codemirror_mode": {
    "name": "ipython",
    "version": 3
   },
   "file_extension": ".py",
   "mimetype": "text/x-python",
   "name": "python",
   "nbconvert_exporter": "python",
   "pygments_lexer": "ipython3",
   "version": "3.9.7"
  }
 },
 "nbformat": 4,
 "nbformat_minor": 5
}
